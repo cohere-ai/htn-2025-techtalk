{
 "cells": [
  {
   "cell_type": "markdown",
   "id": "15980628",
   "metadata": {},
   "source": [
    "## Defining our verifier"
   ]
  },
  {
   "cell_type": "code",
   "execution_count": 22,
   "id": "db55a195",
   "metadata": {},
   "outputs": [
    {
     "name": "stdout",
     "output_type": "stream",
     "text": [
      "(True, 0)\n",
      "(False, -1)\n",
      "(False, 4)\n"
     ]
    }
   ],
   "source": [
    "# Here, we are going with a Programmatic Verification approach since this makes most sense for the use case!\n",
    "def meets_word_count(s: str, max_words: int, tolerance: float = 0.85) -> tuple[bool, int]:\n",
    "    \"\"\"\n",
    "    Returns whether or not the string `s` meets the word count requirement, with a given tolerance.\n",
    "\n",
    "    It also returns the delta from the max word count.\n",
    "\n",
    "    Args:\n",
    "        s (str): The input string to check.\n",
    "        max_words (int): The maximum allowed word count.\n",
    "        tolerance (float): The tolerance level (between 0 and 1) for the word count. Defaults to 0.85.\n",
    "    \"\"\"\n",
    "    words = s.split()\n",
    "    return len(words) <= max_words and len(words) >= int(max_words * tolerance), max_words - len(words)\n",
    "\n",
    "# Always test your code!\n",
    "print(meets_word_count(\"This is a test string.\", 5)) # True, 0\n",
    "print(meets_word_count(\"This is a test string.\", 4)) # False, -1\n",
    "print(meets_word_count(\"This\", 5)) # False, 4"
   ]
  },
  {
   "cell_type": "markdown",
   "id": "297dbba7",
   "metadata": {},
   "source": [
    "## The Resume"
   ]
  },
  {
   "cell_type": "code",
   "execution_count": 5,
   "id": "01a4e3e0",
   "metadata": {},
   "outputs": [
    {
     "name": "stdout",
     "output_type": "stream",
     "text": [
      "John Doe\n",
      "Email: johndoe@uwaterloo.ca | Phone: (555) 123-4567 | GitHub: github.com/johndoe | LinkedIn: linkedin.com/in/johndoe\n",
      "Education: Candidate for BCS, Honours Computer Science, University of Waterloo (Class of 2026)\n",
      "GPA: 3.7/4.0\n",
      "\n",
      "---\n",
      "\n",
      "Technical Skills\n",
      "- Languages: Python, Java, C++, JavaScript/TypeScript, SQL\n",
      "- Frameworks & Tools: React, Node.js, Express, Flask, Docker, Git, Linux, AWS (EC2, S3)\n",
      "- Interests: Full-stack development, distributed systems, cloud infrastructure, and AI/ML applications\n",
      "\n",
      "---\n",
      "\n",
      "Work Experience\n",
      "\n",
      "Software Engineering Intern – Shopify, Ottawa, ON\n",
      "May 2024 – August 2024\n",
      "- Contributed to the checkout optimization team, improving load times by ~18% by rewriting key backend endpoints in Go.\n",
      "- Implemented monitoring dashboards using Grafana + Prometheus, allowing the team to detect and respond to incidents 30% faster.\n",
      "- Collaborated with product managers and designers to ship A/B tested features that increased conversion rates for merchants.\n",
      "\n",
      "Backend Developer Co-op – RBC, Toronto, ON\n",
      "September 2023 – December 2023\n",
      "- Designed and deployed REST APIs in Java + Spring Boot, enabling integration with new payment systems.\n",
      "- Reduced cloud infrastructure costs by 12% by optimizing container deployments and database queries.\n",
      "- Mentored a junior intern on debugging workflows and Git best practices.\n",
      "\n",
      "Undergraduate Research Assistant – University of Waterloo, Department of CS\n",
      "January 2023 – April 2023\n",
      "- Assisted in a project on distributed graph databases, focusing on consistency and fault-tolerance.\n",
      "- Built experimental Python scripts to evaluate query latency across different replication strategies.\n",
      "\n",
      "---\n",
      "\n",
      "Projects\n",
      "\n",
      "Campus Connect (Hack the North 2023)\n",
      "- Full-stack web app to help Waterloo students find study partners with matching courses and schedules.\n",
      "- Built with React, Node.js, MongoDB, and deployed on AWS.\n",
      "- Project won Top 10 finalist among 500+ teams.\n",
      "\n",
      "Personal Finance Tracker\n",
      "- Developed a React + Flask app for tracking expenses and budgets, with user authentication via OAuth.\n",
      "- Integrated Plaid API for real-time banking transaction imports.\n",
      "- Used by 50+ beta testers at Waterloo.\n",
      "\n",
      "---\n",
      "\n",
      "Leadership & Extracurriculars\n",
      "- Waterloo Computer Science Club – VP, Events (2024): Organized technical workshops and invited speakers from Google and Meta.\n",
      "- Teaching Assistant – CS 135 (Designing Functional Programs): Held weekly tutorials and office hours for 100+ first-year students.\n",
      "\n",
      "---\n",
      "\n",
      "Additional Information\n",
      "- Passionate about building scalable systems and products that improve everyday life.\n",
      "- Constantly experimenting with new technologies through side projects.\n",
      "- Actively follow open-source contributions and publish articles on Medium about backend development practices.\n",
      "\n"
     ]
    }
   ],
   "source": [
    "with open(\"data/toy_problem_1/job_resume.txt\", \"r\") as f:\n",
    "    resume = f.read()\n",
    "\n",
    "print(resume)"
   ]
  },
  {
   "cell_type": "markdown",
   "id": "311235e6",
   "metadata": {},
   "source": [
    "## The Job Application"
   ]
  },
  {
   "cell_type": "code",
   "execution_count": 4,
   "id": "a0772629",
   "metadata": {},
   "outputs": [
    {
     "name": "stdout",
     "output_type": "stream",
     "text": [
      "1) Why are you interested in working at our company, and how does our mission align with your career goals? Max word count: 300\n",
      "2) Describe a technical project you’ve worked on that you are most proud of. What was your role and what impact did it have? Max word count: 250\n",
      "3) Tell us about a time you faced a significant coding or technical challenge. How did you approach solving it? Max word count: 500\n",
      "4) How do you stay up-to-date with the latest tools, frameworks, and technologies in software engineering? Max word count: 150\n",
      "5) Explain a situation where you had to collaborate with teammates (engineers, designers, or PMs) to deliver a project. What did you learn from the experience? Max word count: 1000\n"
     ]
    }
   ],
   "source": [
    "# Load in the questions\n",
    "import json\n",
    "\n",
    "with open(\"data/toy_problem_1/job_application_questions.jsonl\", \"r\") as f:\n",
    "    questions = [json.loads(line) for line in f.readlines()]\n",
    "\n",
    "for idx, question in enumerate(questions):\n",
    "    print(f\"{idx + 1}) {question['question']} Max word count: {question['max_word_count']}\")"
   ]
  },
  {
   "cell_type": "markdown",
   "id": "edb834eb",
   "metadata": {},
   "source": [
    "## Build the Prompts"
   ]
  },
  {
   "cell_type": "code",
   "execution_count": 23,
   "id": "72d945b8",
   "metadata": {},
   "outputs": [
    {
     "name": "stdout",
     "output_type": "stream",
     "text": [
      "You are an expert job application writer. You have been given the following resume:\n",
      "<resume>\n",
      "TEST RESUME\n",
      "</resume>\n",
      "\n",
      "Please answer the following question based on the resume provided. \n",
      "\n",
      "Your answer must be no more than **5** words, but the length should also not fall too far below this limit (at least 85% of the max word count).\n",
      "\n",
      "Question: Hello how are you?\n",
      "\n",
      "Please provide JUST the response to the question without any additional commentary.\n",
      "\n",
      "Response:\n"
     ]
    }
   ],
   "source": [
    "def build_prompt(resume: str, question: str, max_word_count: int) -> str:\n",
    "\n",
    "    prompt = f\"\"\"You are an expert job application writer. You have been given the following resume:\n",
    "<resume>\n",
    "{resume}\n",
    "</resume>\n",
    "\n",
    "Please answer the following question based on the resume provided. \n",
    "\n",
    "Your answer must be no more than **{max_word_count}** words, but the length should also not fall too far below this limit (at least 85% of the max word count).\n",
    "\n",
    "Question: {question}\n",
    "\n",
    "Please provide JUST the response to the question without any additional commentary.\n",
    "\n",
    "Response:\"\"\"\n",
    "\n",
    "    return prompt\n",
    "\n",
    "# Always test your code!\n",
    "print(build_prompt(\"TEST RESUME\", \"Hello how are you?\", 5))"
   ]
  },
  {
   "cell_type": "markdown",
   "id": "8e412d9d",
   "metadata": {},
   "source": [
    "## Baseline\n",
    "\n",
    "We generate 1 response for each question. Let's see how many pass the application."
   ]
  },
  {
   "cell_type": "code",
   "execution_count": null,
   "id": "a09aabaf",
   "metadata": {},
   "outputs": [],
   "source": [
    "from utils.model_utils import chat_n_times\n",
    "import copy \n",
    "\n",
    "def run_generation(\n",
    "        resume: str, \n",
    "        questions: list[dict], \n",
    "        num_responses, \n",
    "        model: str = \"command-a-03-2025\", \n",
    "        temp: float = 1.0, \n",
    "        p: float = 1.0) -> None:\n",
    "\n",
    "    # For every question\n",
    "    for question in questions:\n",
    "\n",
    "        question[\"responses\"] = []\n",
    "        question[\"correct_responses\"] = []\n",
    "        question[\"best_response\"] = None\n",
    "\n",
    "        # build the prompt\n",
    "        prompt = build_prompt(resume, question[\"question\"], question[\"max_word_count\"])\n",
    "        \n",
    "        # always store your prompt for easy debugging!\n",
    "        question[\"prompt\"] = prompt\n",
    "\n",
    "        # sample from the model num_responses times\n",
    "        outputs = chat_n_times(\n",
    "            n=num_responses,\n",
    "            model=model,\n",
    "            messages=[{\"role\": \"user\", \"content\": prompt}],\n",
    "            temperature=temp,\n",
    "            p=p\n",
    "        )\n",
    "\n",
    "        for o in outputs:\n",
    "            if o[\"ok\"]:\n",
    "                response = o['response'].message.content[-1].text\n",
    "\n",
    "                # Store the response\n",
    "                question[\"responses\"].append(response)\n",
    "\n",
    "                # Determine whether or not response was \"correct\"\n",
    "                is_correct, wc_delta = meets_word_count(response, question[\"max_word_count\"]) \n",
    "                if is_correct:\n",
    "                    question[\"correct_responses\"].append((response, wc_delta))\n",
    "\n",
    "            else:\n",
    "                print(f\"FAILED TO GET RESPONSE: {o['error']}\")\n",
    "\n",
    "\n",
    "        question[\"passes\"] = len(question[\"correct_responses\"]) > 0\n",
    "        if question[\"passes\"]:\n",
    "            question[\"best_response\"] = sorted(question[\"correct_responses\"], key=lambda x: x[1], reverse=False)[0]\n",
    "\n",
    "\n",
    "baseline_questions = copy.deepcopy(questions)\n",
    "run_generation(resume, baseline_questions, 1)"
   ]
  },
  {
   "cell_type": "code",
   "execution_count": 52,
   "id": "ad68f10f",
   "metadata": {},
   "outputs": [
    {
     "data": {
      "text/plain": [
       "0.0"
      ]
     },
     "execution_count": 52,
     "metadata": {},
     "output_type": "execute_result"
    }
   ],
   "source": [
    "pass_rate = len([q for q in baseline_questions if q[\"passes\"]]) / len(baseline_questions)\n",
    "pass_rate"
   ]
  },
  {
   "cell_type": "markdown",
   "id": "0621f971",
   "metadata": {},
   "source": [
    "## Test-Time Scaling Approach"
   ]
  },
  {
   "cell_type": "code",
   "execution_count": 62,
   "id": "d9294591",
   "metadata": {},
   "outputs": [],
   "source": [
    "stats = []\n",
    "\n",
    "# Let's scale num_trials by powers of two\n",
    "for i in range(0, 7):\n",
    "\n",
    "    num_trials = 2 ** i\n",
    "    ttc_questions = copy.deepcopy(questions)\n",
    "    run_generation(resume, ttc_questions, num_trials)\n",
    "\n",
    "    pass_rate = len([q for q in ttc_questions if q[\"passes\"]]) / len(ttc_questions)\n",
    "    stats.append((num_trials, pass_rate))"
   ]
  },
  {
   "cell_type": "code",
   "execution_count": 65,
   "id": "4b3d1106",
   "metadata": {},
   "outputs": [
    {
     "data": {
      "image/png": "[encoded data removed]",
      "text/plain": [
       "<Figure size 800x500 with 1 Axes>"
      ]
     },
     "metadata": {},
     "output_type": "display_data"
    }
   ],
   "source": [
    "import matplotlib.pyplot as plt\n",
    "\n",
    "def plot_log_line(data):\n",
    "    \"\"\"\n",
    "    Plots a line graph with x-axis on log scale.\n",
    "    \n",
    "    Parameters:\n",
    "        data (list of tuples): Each tuple contains (x, y), \n",
    "                               where x is a power of 2 and y is between 0 and 1.\n",
    "    \"\"\"\n",
    "    # Unpack the tuples into x and y lists\n",
    "    x, y = zip(*data)\n",
    "\n",
    "    plt.figure(figsize=(8, 5))\n",
    "    plt.plot(x, y, marker=\"o\", linestyle=\"-\", linewidth=2)\n",
    "\n",
    "    # Set log scale for x-axis\n",
    "    plt.xscale(\"log\", base=2)\n",
    "\n",
    "    # Labels and title\n",
    "    plt.xlabel(\"num_trials (log scale)\")\n",
    "    plt.ylabel(\"Accuracy\")\n",
    "    plt.title(\"Test-time scaling of accuracy on toy problem 1\")\n",
    "    plt.grid(True, which=\"both\", linestyle=\"--\", linewidth=0.7)\n",
    "    plt.show()\n",
    "\n",
    "plot_log_line(stats)"
   ]
  },
  {
   "cell_type": "markdown",
   "id": "34f9011f",
   "metadata": {},
   "source": [
    "We see that the accuracy starts to plateau around 2^4 = 16 generations per prompt with around 80% accuracy. So anything higher doesn't appear to yield more gains as it starts to oscillate. This is obviously sample size = 1 so this isn't rigorous by any means, but it does give us some signal as to what our ideal num_trials could be!"
   ]
  }
 ],
 "metadata": {
  "kernelspec": {
   "display_name": "htn-2025-techtalk",
   "language": "python",
   "name": "python3"
  },
  "language_info": {
   "codemirror_mode": {
    "name": "ipython",
    "version": 3
   },
   "file_extension": ".py",
   "mimetype": "text/x-python",
   "name": "python",
   "nbconvert_exporter": "python",
   "pygments_lexer": "ipython3",
   "version": "3.10.16"
  }
 },
 "nbformat": 4,
 "nbformat_minor": 5
}
