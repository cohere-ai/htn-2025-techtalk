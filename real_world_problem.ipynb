{
 "cells": [
  {
   "cell_type": "markdown",
   "id": "4829de76",
   "metadata": {},
   "source": [
    "## Defining our verifier\n",
    "\n",
    "In this case, correctness is essentially computed as whether or not I get my money back or not :D"
   ]
  },
  {
   "cell_type": "code",
   "execution_count": 15,
   "id": "7e26685b",
   "metadata": {},
   "outputs": [
    {
     "name": "stdout",
     "output_type": "stream",
     "text": [
      "(True, 0)\n",
      "(False, 0.02)\n",
      "(True, 0)\n",
      "(False, 32.33)\n"
     ]
    }
   ],
   "source": [
    "import math\n",
    "\n",
    "# Here, we are going with a Programmatic Verification approach since this makes most sense for the use case!\n",
    "def is_reimbursed_total_balance(reimbursed_total_value: float, credit_card_balance: float, credit_card_limit: float, tolerance: float = 0.011) -> tuple[bool, int]:\n",
    "    \"\"\"\n",
    "    Function to verify if the reimbursed total value is within a certain tolerance of the true total spend. \n",
    "    Also returns the difference if not within tolerance.\n",
    "\n",
    "    Args:\n",
    "        reimbursed_total_value (float): The total value reimbursed by the model.\n",
    "        credit_card_balance (float): The current balance on the credit card.\n",
    "        credit_card_limit (float): The credit limit of the credit card.\n",
    "        tolerance (float): The acceptable tolerance level for the difference. Default is 0.011.\n",
    "    \"\"\"\n",
    "    true_total_spend = credit_card_limit - credit_card_balance\n",
    "\n",
    "    # Check if the reimbursed total value is within the tolerance of the true total spend\n",
    "    if math.isclose(reimbursed_total_value, true_total_spend, abs_tol=tolerance):\n",
    "        return True, 0\n",
    "    else:\n",
    "        # Return the difference rounded to the nearest integer\n",
    "        difference = round(true_total_spend - reimbursed_total_value, 2)\n",
    "        return False, difference\n",
    "    \n",
    "\n",
    "print(is_reimbursed_total_balance(67.67, 500.00-67.68, 500.00)) # True, 0\n",
    "print(is_reimbursed_total_balance(67.67, 500.00-67.69, 500.00)) # False, 0.02\n",
    "print(is_reimbursed_total_balance(67.67, 500.00-67.67, 500.00)) # True, 0\n",
    "print(is_reimbursed_total_balance(67.67, 500.00-100.00, 500.00)) # False, 32.33\n"
   ]
  },
  {
   "cell_type": "code",
   "execution_count": 3,
   "id": "0acb9d0e",
   "metadata": {},
   "outputs": [
    {
     "data": {
      "text/plain": [
       "5.44"
      ]
     },
     "execution_count": 3,
     "metadata": {},
     "output_type": "execute_result"
    }
   ],
   "source": [
    "round(5.444,2)"
   ]
  }
 ],
 "metadata": {
  "kernelspec": {
   "display_name": "htn-2025-techtalk",
   "language": "python",
   "name": "python3"
  },
  "language_info": {
   "codemirror_mode": {
    "name": "ipython",
    "version": 3
   },
   "file_extension": ".py",
   "mimetype": "text/x-python",
   "name": "python",
   "nbconvert_exporter": "python",
   "pygments_lexer": "ipython3",
   "version": "3.10.16"
  }
 },
 "nbformat": 4,
 "nbformat_minor": 5
}
